{
 "cells": [
  {
   "cell_type": "markdown",
   "metadata": {},
   "source": [
    "# DATE : 08/12/2019\n",
    "# FIRST FOUR ASSIGNMENT QUESTIONS\n",
    "# AAMIR JAN KHAN\n",
    "# PIAIC60191"
   ]
  },
  {
   "cell_type": "code",
   "execution_count": 2,
   "metadata": {},
   "outputs": [
    {
     "name": "stdout",
     "output_type": "stream",
     "text": [
      "enter table: 10\n",
      "1 X 1 = 1 2 X 1 = 2 3 X 1 = 3 4 X 1 = 4 5 X 1 = 5 6 X 1 = 6 7 X 1 = 7 8 X 1 = 8 9 X 1 = 9 10 X 1 = 10 \n",
      "1 X 2 = 2 2 X 2 = 4 3 X 2 = 6 4 X 2 = 8 5 X 2 = 10 6 X 2 = 12 7 X 2 = 14 8 X 2 = 16 9 X 2 = 18 10 X 2 = 20 \n",
      "1 X 3 = 3 2 X 3 = 6 3 X 3 = 9 4 X 3 = 12 5 X 3 = 15 6 X 3 = 18 7 X 3 = 21 8 X 3 = 24 9 X 3 = 27 10 X 3 = 30 \n",
      "1 X 4 = 4 2 X 4 = 8 3 X 4 = 12 4 X 4 = 16 5 X 4 = 20 6 X 4 = 24 7 X 4 = 28 8 X 4 = 32 9 X 4 = 36 10 X 4 = 40 \n",
      "1 X 5 = 5 2 X 5 = 10 3 X 5 = 15 4 X 5 = 20 5 X 5 = 25 6 X 5 = 30 7 X 5 = 35 8 X 5 = 40 9 X 5 = 45 10 X 5 = 50 \n",
      "1 X 6 = 6 2 X 6 = 12 3 X 6 = 18 4 X 6 = 24 5 X 6 = 30 6 X 6 = 36 7 X 6 = 42 8 X 6 = 48 9 X 6 = 54 10 X 6 = 60 \n",
      "1 X 7 = 7 2 X 7 = 14 3 X 7 = 21 4 X 7 = 28 5 X 7 = 35 6 X 7 = 42 7 X 7 = 49 8 X 7 = 56 9 X 7 = 63 10 X 7 = 70 \n",
      "1 X 8 = 8 2 X 8 = 16 3 X 8 = 24 4 X 8 = 32 5 X 8 = 40 6 X 8 = 48 7 X 8 = 56 8 X 8 = 64 9 X 8 = 72 10 X 8 = 80 \n",
      "1 X 9 = 9 2 X 9 = 18 3 X 9 = 27 4 X 9 = 36 5 X 9 = 45 6 X 9 = 54 7 X 9 = 63 8 X 9 = 72 9 X 9 = 81 10 X 9 = 90 \n",
      "1 X 10 = 10 2 X 10 = 20 3 X 10 = 30 4 X 10 = 40 5 X 10 = 50 6 X 10 = 60 7 X 10 = 70 8 X 10 = 80 9 X 10 = 90 10 X 10 = 100 \n",
      "\n"
     ]
    }
   ],
   "source": [
    "var=int(input(\"enter table: \"))\n",
    "var1=1\n",
    "table=\"\"\n",
    "for i in range(1,11):\n",
    "    for j in range(var):\n",
    "        table += str(var1)+\" X \"+str(i)+\" = \"+str(var1*i)+\" \"\n",
    "        var1 += 1\n",
    "    table += '\\n'\n",
    "    var1 = 1\n",
    "print(table)\n"
   ]
  },
  {
   "cell_type": "code",
   "execution_count": 1,
   "metadata": {},
   "outputs": [
    {
     "name": "stdout",
     "output_type": "stream",
     "text": [
      "enter table: 5\n",
      "1 X 1 = 1 2 X 1 = 2 3 X 1 = 3 4 X 1 = 4 5 X 1 = 5 \n",
      "1 X 2 = 2 2 X 2 = 4 3 X 2 = 6 4 X 2 = 8 5 X 2 = 10 \n",
      "1 X 3 = 3 2 X 3 = 6 3 X 3 = 9 4 X 3 = 12 5 X 3 = 15 \n",
      "1 X 4 = 4 2 X 4 = 8 3 X 4 = 12 4 X 4 = 16 5 X 4 = 20 \n",
      "1 X 5 = 5 2 X 5 = 10 3 X 5 = 15 4 X 5 = 20 5 X 5 = 25 \n",
      "1 X 6 = 6 2 X 6 = 12 3 X 6 = 18 4 X 6 = 24 5 X 6 = 30 \n",
      "1 X 7 = 7 2 X 7 = 14 3 X 7 = 21 4 X 7 = 28 5 X 7 = 35 \n",
      "1 X 8 = 8 2 X 8 = 16 3 X 8 = 24 4 X 8 = 32 5 X 8 = 40 \n",
      "1 X 9 = 9 2 X 9 = 18 3 X 9 = 27 4 X 9 = 36 5 X 9 = 45 \n",
      "1 X 10 = 10 2 X 10 = 20 3 X 10 = 30 4 X 10 = 40 5 X 10 = 50 \n",
      "\n"
     ]
    }
   ],
   "source": [
    "var=int(input(\"enter table: \"))\n",
    "var1=1\n",
    "table=\"\"\n",
    "for i in range(1,11):\n",
    "    for j in range(var):\n",
    "        table += str(var1)+\" X \"+str(i)+\" = \"+str(var1*i)+\" \"\n",
    "        var1 += 1\n",
    "    table += '\\n'\n",
    "    var1 = 1\n",
    "print(table)\n"
   ]
  },
  {
   "cell_type": "code",
   "execution_count": 3,
   "metadata": {},
   "outputs": [
    {
     "name": "stdout",
     "output_type": "stream",
     "text": [
      "value: 5 indexes: 0 1\n",
      "value: 10 indexes: 1 2\n",
      "value: 30 indexes: 2 1\n",
      "value: 35 indexes: 3 0\n",
      "value: 20 indexes: 3 2\n"
     ]
    }
   ],
   "source": [
    "mat=[[2,5,9],[8,9,10],[23,30,27],[35,9,20]]\n",
    "for i in range(4):\n",
    "    for j in range(3):\n",
    "        if mat[i][j] %5==0:\n",
    "            print(\"value: \"+str(mat[i][j])+\" indexes: \"+(str(i)+\" \"+str(j)))"
   ]
  },
  {
   "cell_type": "code",
   "execution_count": 14,
   "metadata": {},
   "outputs": [
    {
     "name": "stdout",
     "output_type": "stream",
     "text": [
      "A a 0\n",
      "B b 1\n",
      "C c 2\n",
      "D d 3\n",
      "E e 4\n",
      "F f 5\n",
      "G g 6\n",
      "H h 7\n",
      "I i 8\n",
      "J j 9\n",
      "K k 0\n",
      "L l 1\n",
      "M m 2\n",
      "N n 3\n",
      "O o 4\n",
      "P p 5\n",
      "Q q 6\n",
      "R r 7\n",
      "S s 8\n",
      "T t 9\n",
      "U u 0\n",
      "V v 1\n",
      "W w 2\n",
      "X x 3\n",
      "Y y 4\n",
      "Z z 5\n"
     ]
    }
   ],
   "source": [
    "list1 = []\n",
    "def func1(X,Y):\n",
    "    lst=[]\n",
    "    while X < Y:\n",
    "        lst.append(chr(X))\n",
    "        X += 1 \n",
    "    return lst\n",
    "ls1=func1(65,91)\n",
    "ls2=func1(97,123)\n",
    "ls3=func1(48,58)*3\n",
    "for i in range(len(ls1)):\n",
    "    var=0\n",
    "    print(\"{} {} {}\".format(ls1[i],ls2[i],ls3[i]))"
   ]
  },
  {
   "cell_type": "code",
   "execution_count": 16,
   "metadata": {},
   "outputs": [
    {
     "name": "stdout",
     "output_type": "stream",
     "text": [
      "please enter your name: AAMIR JAN KHAN\n",
      "please enter your father's name: KHALID RAHEEL\n",
      "please enter your roll number: PIAIC60191\n",
      "do you want to continue press Y\n",
      "Y\n",
      "please enter your name: ABDULLAH\n",
      "please enter your father's name: KHALID RAHEEL\n",
      "please enter your roll number: PIAIC60192\n",
      "do you want to continue press Y\n",
      "Y\n",
      "please enter your name: RAIHAN KHAN\n",
      "please enter your father's name: RAHEEL KHAN\n",
      "please enter your roll number: PIAIC60193\n",
      "do you want to continue press Y\n",
      "Y\n",
      "please enter your name: AHMED ALI\n",
      "please enter your father's name: ALI KHAN\n",
      "please enter your roll number: PIAIC60992\n",
      "do you want to continue press Y\n",
      "N\n",
      "[('AAMIR JAN KHAN', 'KHALID RAHEEL', 'PIAIC60191'), ('ABDULLAH', 'KHALID RAHEEL', 'PIAIC60192'), ('RAIHAN KHAN', 'RAHEEL KHAN', 'PIAIC60193'), ('AHMED ALI', 'ALI KHAN', 'PIAIC60992')]\n"
     ]
    }
   ],
   "source": [
    "List=[]\n",
    "for i in  range(10):\n",
    "    option1=input(\"please enter your name: \")\n",
    "    option2=input(\"please enter your father's name: \")\n",
    "    option3=input(\"please enter your roll number: \")\n",
    "    List.append((option1,option2,option3))\n",
    "    print(\"do you want to continue press Y\")\n",
    "    op=input()\n",
    "    if op != \"Y\":\n",
    "        break\n",
    "print(List)"
   ]
  },
  {
   "cell_type": "code",
   "execution_count": null,
   "metadata": {},
   "outputs": [],
   "source": []
  }
 ],
 "metadata": {
  "kernelspec": {
   "display_name": "Python 3",
   "language": "python",
   "name": "python3"
  },
  "language_info": {
   "codemirror_mode": {
    "name": "ipython",
    "version": 3
   },
   "file_extension": ".py",
   "mimetype": "text/x-python",
   "name": "python",
   "nbconvert_exporter": "python",
   "pygments_lexer": "ipython3",
   "version": "3.7.4"
  }
 },
 "nbformat": 4,
 "nbformat_minor": 2
}
